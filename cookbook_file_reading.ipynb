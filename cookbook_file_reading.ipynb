{
 "cells": [
  {
   "cell_type": "code",
   "execution_count": 7,
   "metadata": {},
   "outputs": [
    {
     "name": "stdout",
     "output_type": "stream",
     "text": [
      "b'Helo\\r\\nthis is ONE of my Friend'\n"
     ]
    }
   ],
   "source": [
    "# read the file and print it reversely \n",
    "#read(number of bytes to read )\n",
    "#readline(number of bytes to read in  from a line when size is specified , other wise read the entire line)\n",
    "#tmp=[]\n",
    "with open(\"inputUpper.txt\",\"rb\") as fp1:\n",
    "    #print(fp1.readline(-1))\n",
    "    tmp=fp1.read()\n",
    "\n",
    "print(tmp)\n",
    "    \n",
    "    \n",
    "    "
   ]
  },
  {
   "cell_type": "code",
   "execution_count": 6,
   "metadata": {},
   "outputs": [
    {
     "data": {
      "text/plain": [
       "str"
      ]
     },
     "execution_count": 6,
     "metadata": {},
     "output_type": "execute_result"
    }
   ],
   "source": [
    "type(tmp)"
   ]
  },
  {
   "cell_type": "code",
   "execution_count": 15,
   "metadata": {},
   "outputs": [
    {
     "name": "stdout",
     "output_type": "stream",
     "text": [
      "Helo\n",
      "\n",
      "this is ONE of my Friend\n"
     ]
    }
   ],
   "source": [
    "#Read the entire file using readline\n",
    "with open(\"inputUpper.txt\",\"r\") as  reader:\n",
    "    line = reader.readline()\n",
    "    while line != '':\n",
    "        print(line)\n",
    "        line = reader.readline()"
   ]
  },
  {
   "cell_type": "code",
   "execution_count": 23,
   "metadata": {},
   "outputs": [
    {
     "name": "stdout",
     "output_type": "stream",
     "text": [
      "this is ONE of my Friend\n",
      "Helo\n",
      "\n"
     ]
    }
   ],
   "source": [
    "#Reverse a file using stack - Prototype 1\n",
    "stack = []\n",
    "with open(\"inputUpper.txt\",\"r\") as  reader:\n",
    "    line = reader.readline()\n",
    "    while line != '':\n",
    "        stack.append(line)\n",
    "        line = reader.readline()\n",
    "\n",
    "while len(stack) != 0:\n",
    "    print(stack.pop())"
   ]
  },
  {
   "cell_type": "code",
   "execution_count": 27,
   "metadata": {},
   "outputs": [
    {
     "name": "stdout",
     "output_type": "stream",
     "text": [
      "this is ONE of my Friend\n",
      "Helo\n",
      "\n"
     ]
    }
   ],
   "source": [
    "##Reverse a file using stack - Prototype 2 - Defining a Stack datastructure \n",
    "class Stack:\n",
    "    def __init__(self):\n",
    "        self._element=[]\n",
    "        \n",
    "    def push(self,line):\n",
    "        self._element.append(line)\n",
    "    \n",
    "    def is_empty(self):\n",
    "        return  True if len(self._element)== 0 else False\n",
    "        \n",
    "    def pop(self):\n",
    "        if self.is_empty():\n",
    "            print('Stack empty ')\n",
    "            return \n",
    "        return self._element.pop()\n",
    "        \n",
    "s = Stack()        \n",
    "with open(\"inputUpper.txt\",\"r\") as  reader:\n",
    "    line = reader.readline()\n",
    "    while line != '':\n",
    "        s.push(line)\n",
    "        line = reader.readline()\n",
    "\n",
    "while not s.is_empty():\n",
    "    print(s.pop())"
   ]
  },
  {
   "cell_type": "code",
   "execution_count": 25,
   "metadata": {},
   "outputs": [
    {
     "data": {
      "text/plain": [
       "['__class__',\n",
       " '__delattr__',\n",
       " '__dict__',\n",
       " '__dir__',\n",
       " '__doc__',\n",
       " '__eq__',\n",
       " '__format__',\n",
       " '__ge__',\n",
       " '__getattribute__',\n",
       " '__gt__',\n",
       " '__hash__',\n",
       " '__init__',\n",
       " '__init_subclass__',\n",
       " '__le__',\n",
       " '__lt__',\n",
       " '__module__',\n",
       " '__ne__',\n",
       " '__new__',\n",
       " '__reduce__',\n",
       " '__reduce_ex__',\n",
       " '__repr__',\n",
       " '__setattr__',\n",
       " '__sizeof__',\n",
       " '__str__',\n",
       " '__subclasshook__',\n",
       " '__weakref__',\n",
       " '_element',\n",
       " 'is_empty',\n",
       " 'pop',\n",
       " 'push']"
      ]
     },
     "execution_count": 25,
     "metadata": {},
     "output_type": "execute_result"
    }
   ],
   "source": [
    "dir(s)"
   ]
  },
  {
   "cell_type": "code",
   "execution_count": 1,
   "metadata": {},
   "outputs": [],
   "source": [
    "#dos2unix.py - it is utility that convert the /r/n to /n\n",
    "# learning reading and writing files\n",
    "#2 argparser\n",
    "#3 format string \n",
    "import argparse\n",
    "import os\n",
    "def str2unix(input_str: str) -> str:\n",
    "    return input_str.replace('\\r\\n','\\n')\n",
    "\n",
    "def dos2unix(source_file: str, dest_file: str):\n",
    "    #line = []\n",
    "    with open(source_file,'r') as reader:\n",
    "        line = reader.read()\n",
    "    with open(dest_file,'w') as writer:\n",
    "        writer.write(str2unix(line))\n",
    "\n",
    "        \n",
    "#dos2unix(\"dos2unix_input.txt\",\"output.txt\")"
   ]
  },
  {
   "cell_type": "code",
   "execution_count": 2,
   "metadata": {},
   "outputs": [
    {
     "name": "stderr",
     "output_type": "stream",
     "text": [
      "usage: ipykernel_launcher.py [-h] [--dest_file DEST_FILE] source_file\n",
      "ipykernel_launcher.py: error: unrecognized arguments: -f\n"
     ]
    },
    {
     "ename": "SystemExit",
     "evalue": "2",
     "output_type": "error",
     "traceback": [
      "An exception has occurred, use %tb to see the full traceback.\n",
      "\u001b[1;31mSystemExit\u001b[0m\u001b[1;31m:\u001b[0m 2\n"
     ]
    },
    {
     "name": "stderr",
     "output_type": "stream",
     "text": [
      "C:\\ProgramData\\Anaconda3\\envs\\py37\\lib\\site-packages\\IPython\\core\\interactiveshell.py:3425: UserWarning: To exit: use 'exit', 'quit', or Ctrl-D.\n",
      "  warn(\"To exit: use 'exit', 'quit', or Ctrl-D.\", stacklevel=1)\n"
     ]
    }
   ],
   "source": [
    "parser = argparse.ArgumentParser(description=\"Script that converts a DOS like file to an Unix like file\",)\n",
    "parser.add_argument('source_file',help='The location of the source ')\n",
    "parser.add_argument('--dest_file', \\\n",
    "                    help='Location of dest file (default: source_file appended with `_unix`', \\\n",
    "                    default=None)\n",
    "\n",
    "args = parser.parse_args()\n",
    "src_file = args.source_file\n",
    "dest_file = args.dest_file\n",
    "\n",
    "if dest_file is None:\n",
    "    dir_path,file_extension = os.path.splitext(src_file)\n",
    "    dest_file = f'{dir_path}_unix{file_extension}'\n",
    "\n",
    "dos2unix(src_file,dest_file)"
   ]
  },
  {
   "cell_type": "code",
   "execution_count": null,
   "metadata": {},
   "outputs": [],
   "source": []
  }
 ],
 "metadata": {
  "kernelspec": {
   "display_name": "Python 3",
   "language": "python",
   "name": "python3"
  },
  "language_info": {
   "codemirror_mode": {
    "name": "ipython",
    "version": 3
   },
   "file_extension": ".py",
   "mimetype": "text/x-python",
   "name": "python",
   "nbconvert_exporter": "python",
   "pygments_lexer": "ipython3",
   "version": "3.7.9"
  },
  "varInspector": {
   "cols": {
    "lenName": 16,
    "lenType": 16,
    "lenVar": 40
   },
   "kernels_config": {
    "python": {
     "delete_cmd_postfix": "",
     "delete_cmd_prefix": "del ",
     "library": "var_list.py",
     "varRefreshCmd": "print(var_dic_list())"
    },
    "r": {
     "delete_cmd_postfix": ") ",
     "delete_cmd_prefix": "rm(",
     "library": "var_list.r",
     "varRefreshCmd": "cat(var_dic_list()) "
    }
   },
   "types_to_exclude": [
    "module",
    "function",
    "builtin_function_or_method",
    "instance",
    "_Feature"
   ],
   "window_display": false
  }
 },
 "nbformat": 4,
 "nbformat_minor": 4
}
